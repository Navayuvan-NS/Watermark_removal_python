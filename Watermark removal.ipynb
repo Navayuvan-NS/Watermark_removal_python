{
 "cells": [
  {
   "cell_type": "code",
   "execution_count": 9,
   "metadata": {},
   "outputs": [],
   "source": [
    "from PIL import Image, ImageDraw\n",
    "import numpy as np\n",
    "import cv2 as cv\n",
    "from scipy.misc import bytescale"
   ]
  },
  {
   "cell_type": "code",
   "execution_count": 10,
   "metadata": {},
   "outputs": [
    {
     "name": "stdout",
     "output_type": "stream",
     "text": [
      "868 1000\n"
     ]
    }
   ],
   "source": [
    "img = cv.imread(\"13.png\")\n",
    "img1 = Image.open(\"13.png\")\n",
    "x, y = img1.size\n",
    "print (x,y)"
   ]
  },
  {
   "cell_type": "code",
   "execution_count": 11,
   "metadata": {},
   "outputs": [
    {
     "name": "stdout",
     "output_type": "stream",
     "text": [
      "(868, 1000)\n",
      "(868, 1000)\n"
     ]
    }
   ],
   "source": [
    "mask = Image.new('RGB', (x, y), color='black')\n",
    "mask.show()\n",
    "im =Image.open(\"Group.png\")\n",
    "c, v = im.size\n",
    "mask.paste(im, (x-c, y-v))\n",
    "mask.save('mask.jpg',\"JPEG\")\n",
    "print (mask.size)\n",
    "print(mask.size)"
   ]
  },
  {
   "cell_type": "code",
   "execution_count": 12,
   "metadata": {},
   "outputs": [
    {
     "data": {
      "text/plain": [
       "True"
      ]
     },
     "execution_count": 12,
     "metadata": {},
     "output_type": "execute_result"
    }
   ],
   "source": [
    "mask = cv.imread(\"mask.jpg\")\n",
    "mask = cv.cvtColor(mask, cv.COLOR_BGR2GRAY)\n",
    "dst = cv.inpaint(img, mask, 8, cv.INPAINT_TELEA)\n",
    "cv.imwrite('dst.jpg', dst)"
   ]
  }
 ],
 "metadata": {
  "kernelspec": {
   "display_name": "Python 3",
   "language": "python",
   "name": "python3"
  },
  "language_info": {
   "codemirror_mode": {
    "name": "ipython",
    "version": 3
   },
   "file_extension": ".py",
   "mimetype": "text/x-python",
   "name": "python",
   "nbconvert_exporter": "python",
   "pygments_lexer": "ipython3",
   "version": "3.6.7"
  }
 },
 "nbformat": 4,
 "nbformat_minor": 2
}
